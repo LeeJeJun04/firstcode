{
  "nbformat": 4,
  "nbformat_minor": 0,
  "metadata": {
    "colab": {
      "provenance": [],
      "include_colab_link": true
    },
    "kernelspec": {
      "name": "python3",
      "display_name": "Python 3"
    },
    "language_info": {
      "name": "python"
    }
  },
  "cells": [
    {
      "cell_type": "markdown",
      "metadata": {
        "id": "view-in-github",
        "colab_type": "text"
      },
      "source": [
        "<a href=\"https://colab.research.google.com/github/LeeJeJun04/firstcode/blob/main/CT_2nd_code.ipynb\" target=\"_parent\"><img src=\"https://colab.research.google.com/assets/colab-badge.svg\" alt=\"Open In Colab\"/></a>"
      ]
    },
    {
      "cell_type": "markdown",
      "source": [
        "2. 사용자로부터 3개의 변수를 입력 받아서 합을 구하고, 평균을 구하는 코드\n",
        " - 변수는:n1,n2,n3,total,average"
      ],
      "metadata": {
        "id": "tzoTSm4ZoOvO"
      }
    },
    {
      "cell_type": "markdown",
      "source": [],
      "metadata": {
        "id": "Bq02YZOzoLkF"
      }
    },
    {
      "cell_type": "code",
      "source": [
        "n1 = int(input(\"n1의 값을 입력하시오: \"))  # 사용자로부터 n1의 값을 입력받아 n1 변수에 저장합니다.\n",
        "n2 = int(input(\"n2의 값을 입력하시오: \"))  # 사용자로부터 n2의 값을 입력받아 n2 변수에 저장합니다.\n",
        "n3 = int(input(\"n3의 값을 입력하시오: \"))  # 사용자로부터 n3의 값을 입력받아 n3 변수에 저장합니다.\n",
        "total = n1 + n2 + n3  # 세 값을 더하여 total 변수에 저장합니다.\n",
        "print(\"합계는:\", total)  # 합계를 출력합니다.\n",
        "average = total / 3  # total을 3으로 나누어 평균을 계산하여 average 변수에 저장합니다.\n",
        "print(\"평균은:\", average)  # 평균을 출력합니다."
      ],
      "metadata": {
        "colab": {
          "base_uri": "https://localhost:8080/"
        },
        "id": "RdsQ41LlnsCH",
        "outputId": "09c6353a-56e5-4574-9bda-7fead49cbb93"
      },
      "execution_count": null,
      "outputs": [
        {
          "output_type": "stream",
          "name": "stdout",
          "text": [
            "n1의 값을 입력하시오.:50\n",
            "n2의 값을 입력하시오.:60\n",
            "n3의 값을 입력하시오.:70\n",
            "합계는: 180\n",
            "평균은: 60.0\n"
          ]
        }
      ]
    }
  ]
}