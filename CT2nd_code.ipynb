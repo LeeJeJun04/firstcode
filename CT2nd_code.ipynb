{
  "nbformat": 4,
  "nbformat_minor": 0,
  "metadata": {
    "colab": {
      "provenance": [],
      "authorship_tag": "ABX9TyP1DUQVjVU7QOkPcBWEdY84",
      "include_colab_link": true
    },
    "kernelspec": {
      "name": "python3",
      "display_name": "Python 3"
    },
    "language_info": {
      "name": "python"
    }
  },
  "cells": [
    {
      "cell_type": "markdown",
      "metadata": {
        "id": "view-in-github",
        "colab_type": "text"
      },
      "source": [
        "<a href=\"https://colab.research.google.com/github/LeeJeJun04/firstcode/blob/main/CT2nd_code.ipynb\" target=\"_parent\"><img src=\"https://colab.research.google.com/assets/colab-badge.svg\" alt=\"Open In Colab\"/></a>"
      ]
    },
    {
      "cell_type": "markdown",
      "source": [
        "2번째 코딩\n",
        " - 사용자로부터 3개의 값을 받아서 합을 내고,평균을 출력하는 코드"
      ],
      "metadata": {
        "id": "908CtAkSKfV1"
      }
    },
    {
      "cell_type": "code",
      "execution_count": 9,
      "metadata": {
        "colab": {
          "base_uri": "https://localhost:8080/"
        },
        "id": "dsriMqi1Gu61",
        "outputId": "ee7b247d-f9b2-43eb-dd68-c2a5f3d0a89f"
      },
      "outputs": [
        {
          "output_type": "stream",
          "name": "stdout",
          "text": [
            "N1의 값을 입력하시오.:40\n",
            "N2의 값을 입력하시오.:50\n",
            "N3의 값을 입력하시오.:60\n",
            "50.0\n"
          ]
        }
      ],
      "source": [
        "n1 = int(input(\"N1의 값을 입력하시오.:\"))\n",
        "n2 = int(input(\"N2의 값을 입력하시오.:\"))\n",
        "n3 = int(input(\"N3의 값을 입력하시오.:\"))\n",
        "total = n1+n2+n3\n",
        "average = total / 3\n",
        "print(average)"
      ]
    },
    {
      "cell_type": "code",
      "source": [],
      "metadata": {
        "id": "NH2NmNSmIt_Z"
      },
      "execution_count": null,
      "outputs": []
    }
  ]
}